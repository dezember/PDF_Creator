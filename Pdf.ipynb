{
 "cells": [
  {
   "cell_type": "code",
   "execution_count": 2,
   "metadata": {
    "collapsed": true
   },
   "outputs": [],
   "source": [
    "import pdfkit as pk"
   ]
  },
  {
   "cell_type": "code",
   "execution_count": null,
   "metadata": {
    "collapsed": false
   },
   "outputs": [],
   "source": []
  },
  {
   "cell_type": "code",
   "execution_count": 3,
   "metadata": {
    "collapsed": true
   },
   "outputs": [],
   "source": [
    "def pdfu(url):\n",
    "    filename = url.split(\"?\")[0].split(\"/\")[-1]\n",
    "    pk.from_url(url,filename+\".pdf\")"
   ]
  },
  {
   "cell_type": "code",
   "execution_count": null,
   "metadata": {
    "collapsed": true
   },
   "outputs": [],
   "source": []
  },
  {
   "cell_type": "code",
   "execution_count": null,
   "metadata": {
    "collapsed": false,
    "scrolled": true
   },
   "outputs": [],
   "source": []
  },
  {
   "cell_type": "code",
   "execution_count": 4,
   "metadata": {
    "collapsed": false
   },
   "outputs": [],
   "source": [
    "from bs4 import BeautifulSoup\n",
    "import urllib2\n",
    "\n",
    "resp = urllib2.urlopen(\"http://proquest.tech.safaribooksonline.de/book/programming/android/9781785285387\")\n",
    "soup = BeautifulSoup(resp, from_encoding=resp.info().getparam('charset'))\n",
    "\n",
    "for link in soup.find_all('a', href=True):\n",
    "    with open(\"x.txt\",\"a\") as f:\n",
    "        f.write(link['href']+\"\\n\")\n",
    "    #print link['href']"
   ]
  },
  {
   "cell_type": "code",
   "execution_count": 5,
   "metadata": {
    "collapsed": true
   },
   "outputs": [],
   "source": [
    "from time import sleep"
   ]
  },
  {
   "cell_type": "code",
   "execution_count": 9,
   "metadata": {
    "collapsed": true
   },
   "outputs": [],
   "source": [
    "lines = open('x.txt').read().splitlines()"
   ]
  },
  {
   "cell_type": "code",
   "execution_count": 11,
   "metadata": {
    "collapsed": false,
    "scrolled": true
   },
   "outputs": [
    {
     "name": "stdout",
     "output_type": "stream",
     "text": [
      "Loading pages (1/6)\n",
      "Warning: Failed to load http://proquest.tech.safaribooksonline.de/static/201507-7982-proquest_tech_de/images/boxes/hdrbox1_up_rt.gif (ignore)\n",
      "Warning: Failed to load http://proquest.tech.safaribooksonline.de/static/201507-7982-proquest_tech_de/files/images/bg_anonmod_cap.gif (ignore)\n",
      "Warning: Failed to load http://proquest.tech.safaribooksonline.de/static/201507-7982-proquest_tech_de/images/boxes/hdrbox1_up_lt.gif (ignore)\n",
      "Warning: Failed to load http://proquest.tech.safaribooksonline.de/static/201507-7982-proquest_tech_de/images/boxes/hdrbox1_dn_lt.gif (ignore)\n",
      "Warning: Failed to load http://proquest.tech.safaribooksonline.de/static/201507-7982-proquest_tech_de/images/boxes/hdrbox1_dn_rt.gif (ignore)\n",
      "Counting pages (2/6)                                               \n",
      "Resolving links (4/6)                                                       \n",
      "Loading headers and footers (5/6)                                           \n",
      "Printing pages (6/6)\n",
      "Done                                                                      \n",
      "/book/programming/android/9781785285387/android-application-programming-with-opencv-3/index_html\n",
      "Loading pages (1/6)\n",
      "Warning: Failed to load http://proquest.tech.safaribooksonline.de/static/201507-7982-proquest_tech_de/files/images/bg_anonmod_cap.gif (ignore)\n",
      "Warning: Failed to load http://proquest.tech.safaribooksonline.de/static/201507-7982-proquest_tech_de/images/boxes/hdrbox1_up_rt.gif (ignore)\n",
      "Warning: Failed to load http://proquest.tech.safaribooksonline.de/static/201507-7982-proquest_tech_de/images/boxes/hdrbox1_up_lt.gif (ignore)\n",
      "Warning: Failed to load http://proquest.tech.safaribooksonline.de/static/201507-7982-proquest_tech_de/images/boxes/hdrbox1_dn_lt.gif (ignore)\n",
      "Warning: Failed to load http://proquest.tech.safaribooksonline.de/static/201507-7982-proquest_tech_de/images/boxes/hdrbox1_dn_rt.gif (ignore)\n",
      "Counting pages (2/6)                                               \n",
      "Resolving links (4/6)                                                       \n",
      "Loading headers and footers (5/6)                                           \n",
      "Printing pages (6/6)\n",
      "Done                                                                      \n",
      "/book/programming/android/9781785285387/android-application-programming-with-opencv-3/toc_html\n"
     ]
    },
    {
     "ename": "KeyboardInterrupt",
     "evalue": "",
     "output_type": "error",
     "traceback": [
      "\u001b[1;31m---------------------------------------------------------------------------\u001b[0m",
      "\u001b[1;31mKeyboardInterrupt\u001b[0m                         Traceback (most recent call last)",
      "\u001b[1;32m<ipython-input-11-f26ff1c95ee1>\u001b[0m in \u001b[0;36m<module>\u001b[1;34m()\u001b[0m\n\u001b[0;32m      4\u001b[0m     \u001b[0mpdfu\u001b[0m\u001b[1;33m(\u001b[0m\u001b[0murl\u001b[0m\u001b[1;33m)\u001b[0m\u001b[1;33m\u001b[0m\u001b[0m\n\u001b[0;32m      5\u001b[0m     \u001b[1;32mprint\u001b[0m \u001b[0mlines\u001b[0m\u001b[1;33m[\u001b[0m\u001b[0mi\u001b[0m\u001b[1;33m]\u001b[0m\u001b[1;33m\u001b[0m\u001b[0m\n\u001b[1;32m----> 6\u001b[1;33m     \u001b[0msleep\u001b[0m\u001b[1;33m(\u001b[0m\u001b[1;36m10\u001b[0m\u001b[1;33m)\u001b[0m\u001b[1;33m\u001b[0m\u001b[0m\n\u001b[0m\u001b[0;32m      7\u001b[0m \u001b[1;33m\u001b[0m\u001b[0m\n",
      "\u001b[1;31mKeyboardInterrupt\u001b[0m: "
     ]
    }
   ],
   "source": [
    "short=\"http://proquest.tech.safaribooksonline.de\"\n",
    "for i in range(0,len(lines),2):\n",
    "    url=short+lines[i]\n",
    "    pdfu(url)\n",
    "    print lines[i]\n",
    "    sleep(10)\n",
    "    "
   ]
  },
  {
   "cell_type": "code",
   "execution_count": 23,
   "metadata": {
    "collapsed": false
   },
   "outputs": [
    {
     "ename": "SyntaxError",
     "evalue": "invalid syntax (<ipython-input-23-f1dc44da67b0>, line 1)",
     "output_type": "error",
     "traceback": [
      "\u001b[1;36m  File \u001b[1;32m\"<ipython-input-23-f1dc44da67b0>\"\u001b[1;36m, line \u001b[1;32m1\u001b[0m\n\u001b[1;33m    1.index(lines)\u001b[0m\n\u001b[1;37m          ^\u001b[0m\n\u001b[1;31mSyntaxError\u001b[0m\u001b[1;31m:\u001b[0m invalid syntax\n"
     ]
    }
   ],
   "source": []
  },
  {
   "cell_type": "code",
   "execution_count": null,
   "metadata": {
    "collapsed": true
   },
   "outputs": [],
   "source": []
  }
 ],
 "metadata": {
  "kernelspec": {
   "display_name": "Python 2",
   "language": "python",
   "name": "python2"
  },
  "language_info": {
   "codemirror_mode": {
    "name": "ipython",
    "version": 2
   },
   "file_extension": ".py",
   "mimetype": "text/x-python",
   "name": "python",
   "nbconvert_exporter": "python",
   "pygments_lexer": "ipython2",
   "version": "2.7.9"
  }
 },
 "nbformat": 4,
 "nbformat_minor": 0
}
